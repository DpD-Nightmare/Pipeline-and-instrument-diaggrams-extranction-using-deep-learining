{
 "cells": [
  {
   "cell_type": "markdown",
   "id": "61736317",
   "metadata": {},
   "source": [
    "## Load the libs"
   ]
  },
  {
   "cell_type": "code",
   "execution_count": 1,
   "id": "57c498fb",
   "metadata": {},
   "outputs": [],
   "source": [
    "from pdf2image import convert_from_path\n",
    "import cv2\n",
    "import numpy as np\n",
    "import imutils\n",
    "import matplotlib.pyplot as plt\n",
    "import os\n",
    "import tensorflow as tf\n",
    "from keras.models import sequential, load_model\n",
    "from keras.utils import np_utils\n",
    "from keras.models import Sequential\n",
    "from keras.layers import Conv2D, MaxPooling2D, Flatten, Dense, Dropout"
   ]
  },
  {
   "cell_type": "markdown",
   "id": "9bb8902e",
   "metadata": {},
   "source": [
    "## Load PDF for operation"
   ]
  },
  {
   "cell_type": "code",
   "execution_count": 2,
   "id": "47377509",
   "metadata": {},
   "outputs": [],
   "source": [
    "# P_ID_file = 'B145-101-1140.pdf'\n",
    "# img = convert_from_path(P_ID_file)\n",
    "# for i in range(len(img)):\n",
    "#     img[i].save(r\"\\Users\\Dhrupad\\Desktop\\Leven\\P and ID\\Untitled Folder\\Demo\\dem_2\\p_id_image\"+str(i)+\".jpg\",\"JPEG\")"
   ]
  },
  {
   "cell_type": "markdown",
   "id": "8a12f370",
   "metadata": {},
   "source": [
    "### Load the image and process the image 140 140 section"
   ]
  },
  {
   "cell_type": "code",
   "execution_count": 2,
   "id": "51d978c2",
   "metadata": {},
   "outputs": [],
   "source": [
    "p_id_img = cv2.imread(\"pid.png\")"
   ]
  },
  {
   "cell_type": "code",
   "execution_count": 3,
   "id": "a85c3bf4",
   "metadata": {},
   "outputs": [],
   "source": [
    "# %matplotlib\n",
    "# plt.imshow(p_id_img)"
   ]
  },
  {
   "cell_type": "code",
   "execution_count": 5,
   "id": "232d4731",
   "metadata": {},
   "outputs": [
    {
     "name": "stdout",
     "output_type": "stream",
     "text": [
      "Using matplotlib backend: Qt5Agg\n"
     ]
    },
    {
     "data": {
      "text/plain": [
       "<matplotlib.image.AxesImage at 0x236cfca58b0>"
      ]
     },
     "execution_count": 5,
     "metadata": {},
     "output_type": "execute_result"
    }
   ],
   "source": [
    "# Cropping an image\n",
    "# cropped_image = p_id_img[200:6300, 880:7500]\n",
    "# Display cropped image\n",
    "%matplotlib\n",
    "plt.imshow(p_id_img)"
   ]
  },
  {
   "cell_type": "code",
   "execution_count": 6,
   "id": "b1de2180",
   "metadata": {},
   "outputs": [],
   "source": [
    "# find all the 'black' shapes in the image\n",
    "lower = np.array([0, 0, 0])\n",
    "upper = np.array([50, 50, 50])\n",
    "shapeMask = cv2.inRange(cropped_image, lower, upper)"
   ]
  },
  {
   "cell_type": "markdown",
   "id": "a59a0d8f",
   "metadata": {},
   "source": [
    "#### object detection "
   ]
  },
  {
   "cell_type": "code",
   "execution_count": 7,
   "id": "d391e1f5",
   "metadata": {},
   "outputs": [
    {
     "name": "stdout",
     "output_type": "stream",
     "text": [
      "Founded 181 black shapes\n"
     ]
    }
   ],
   "source": [
    "cnts = cv2.findContours(shapeMask.copy(),cv2.RETR_EXTERNAL, cv2.CHAIN_APPROX_SIMPLE)\n",
    "cnts = imutils.grab_contours(cnts)\n",
    "print(\"Founded {} black shapes\".format(len(cnts)))"
   ]
  },
  {
   "cell_type": "code",
   "execution_count": 8,
   "id": "cac2641f",
   "metadata": {},
   "outputs": [],
   "source": [
    "for i in range(len(cnts)):\n",
    "    y_max,x_max = np.max(cnts[i],axis=0)[0]\n",
    "    y_min,x_min = np.min(cnts[i],axis=0)[0]\n",
    "    x_c = int((x_min+x_max)/2)\n",
    "    y_c = int((y_min+y_max)/2)\n",
    "    cv2.imwrite(\"p_id_image\"+str(i)+\"contour.jpg\", \n",
    "                p_id_img[x_c-70:x_c+70,y_c-70:y_c+70])"
   ]
  },
  {
   "cell_type": "markdown",
   "id": "c225b12e",
   "metadata": {},
   "source": [
    "#### image process and loading in nn model"
   ]
  },
  {
   "cell_type": "code",
   "execution_count": 26,
   "id": "de1e53b1",
   "metadata": {},
   "outputs": [],
   "source": [
    "ip_img=[]\n",
    "for i in range(150):\n",
    "    if os.path.isfile(\"p_id_image\"+str(i)+\"contour.jpg\"):\n",
    "        img = cv2.imread(\"p_id_image\"+str(i)+\"contour.jpg\")\n",
    "    #     print(i)\n",
    "        r_img = cv2.resize(img,(100,100))\n",
    "        grayImage = cv2.cvtColor(r_img, cv2.COLOR_BGR2GRAY)\n",
    "    #     print(grayImage.shape)\n",
    "        g_img = grayImage.reshape(100,100,1)\n",
    "        n_img = cv2.bitwise_not(g_img)\n",
    "        ip_img.append(n_img)"
   ]
  },
  {
   "cell_type": "code",
   "execution_count": 27,
   "id": "eb75d37b",
   "metadata": {},
   "outputs": [],
   "source": [
    "nsp= np.array(ip_img)\n",
    "d1,d2,d3=nsp.shape"
   ]
  },
  {
   "cell_type": "code",
   "execution_count": 28,
   "id": "98dbc1e9",
   "metadata": {},
   "outputs": [],
   "source": [
    "trn_model = tf.keras.models.load_model('eng_drwing.model')\n",
    "perd = trn_model.predict(nsp.reshape(d1,d2,d3,1))"
   ]
  },
  {
   "cell_type": "code",
   "execution_count": 29,
   "id": "31e0ddfa",
   "metadata": {},
   "outputs": [
    {
     "data": {
      "text/plain": [
       "(11, 30)"
      ]
     },
     "execution_count": 29,
     "metadata": {},
     "output_type": "execute_result"
    }
   ],
   "source": [
    "perd.shape"
   ]
  },
  {
   "cell_type": "code",
   "execution_count": 30,
   "id": "f3d368b3",
   "metadata": {},
   "outputs": [],
   "source": [
    "label_names = ['Arrowhead', 'Arrowhead + Triangle', 'Box', 'Continuity Label',\n",
    "       'Control', 'Control Valve Globe', 'DB&BBV', 'DB&BBV + Valve Check',\n",
    "       'DB&BPV', 'ESDV Valve Ball', 'ESDV Valve Butterfly',\n",
    "       'ESDV Valve Slab Gate', 'Exit to Atmosphere', 'Flange + Triangle',\n",
    "       'Flange Joint', 'Flange Single T-Shape', 'Injector Point',\n",
    "       'Reducer', 'Rupture Disc', 'Sensor', 'Spectacle Blind', 'Triangle',\n",
    "       'Valve', 'Valve Angle', 'Valve Ball', 'Valve Butterfly',\n",
    "       'Valve Check', 'Valve Globe', 'Valve Plug', 'Valve Slab Gate']"
   ]
  },
  {
   "cell_type": "code",
   "execution_count": 31,
   "id": "e9b06785",
   "metadata": {},
   "outputs": [],
   "source": [
    "product = nsp.reshape(nsp.shape[0],100,100)\n",
    "fig, axis = plt.subplots(4, 2, figsize=(12, 12))\n",
    "for i,ax in enumerate(axis.flat):\n",
    "    l = i\n",
    "    ax.imshow(product[l],cmap='binary')\n",
    "    ax.set(title=f'predicted_symbol_{label_names[perd[l].argmax()]}');\n",
    "    "
   ]
  },
  {
   "cell_type": "code",
   "execution_count": 67,
   "id": "8c23a006",
   "metadata": {},
   "outputs": [
    {
     "data": {
      "text/plain": [
       "17"
      ]
     },
     "execution_count": 67,
     "metadata": {},
     "output_type": "execute_result"
    }
   ],
   "source": [
    "perd[5].argmax()"
   ]
  },
  {
   "cell_type": "markdown",
   "id": "a300dc48",
   "metadata": {},
   "source": [
    "#### Store the symbols in txt"
   ]
  },
  {
   "cell_type": "code",
   "execution_count": 16,
   "id": "3cc8846b",
   "metadata": {},
   "outputs": [],
   "source": [
    "file = open('Symboles_1.txt','w')\n",
    "for i in range(len(perd)):\n",
    "    file.write('\\nDetected symbole is:'+str(label_names[perd[i].argmax()]))\n",
    "file.close()"
   ]
  },
  {
   "cell_type": "code",
   "execution_count": null,
   "id": "5e94f806",
   "metadata": {},
   "outputs": [],
   "source": []
  }
 ],
 "metadata": {
  "kernelspec": {
   "display_name": "Python 3",
   "language": "python",
   "name": "python3"
  },
  "language_info": {
   "codemirror_mode": {
    "name": "ipython",
    "version": 3
   },
   "file_extension": ".py",
   "mimetype": "text/x-python",
   "name": "python",
   "nbconvert_exporter": "python",
   "pygments_lexer": "ipython3",
   "version": "3.8.8"
  }
 },
 "nbformat": 4,
 "nbformat_minor": 5
}
